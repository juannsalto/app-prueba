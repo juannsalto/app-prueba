{
 "cells": [
  {
   "cell_type": "code",
   "execution_count": null,
   "metadata": {},
   "outputs": [],
   "source": [
    "variable_1 = 10\n",
    "variable_2 = 20\n",
    "variable_3 = 30\n",
    "variable_4 = 60\n",
    "variable_5 = 10\n"
   ]
  }
 ],
 "metadata": {
  "language_info": {
   "name": "python"
  },
  "orig_nbformat": 4
 },
 "nbformat": 4,
 "nbformat_minor": 2
}
