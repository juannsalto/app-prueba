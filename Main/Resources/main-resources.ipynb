{
 "cells": [
  {
   "cell_type": "code",
   "execution_count": null,
   "metadata": {},
   "outputs": [],
   "source": [
    "#variableTalles\n",
    "\n",
    "talles = \"L\", \"M\", \"S\", \"X\" \"XL\", \"XXL\"\n",
    "\n",
    "#variableZonas\n",
    "\n",
    "zonas = 1, 2, 3, 4, 5\n",
    "\n",
    "#variableModelo\n",
    "\n",
    "modelo = \"tiro ancho\", \"tiro bajo\", \"chupin\", \"acampanado\", \"roto\", \"corte inglés\"\n",
    "\n",
    "#variableUsuario\n",
    "\n",
    "\"import\"\n",
    "\n",
    "#fechaEntrega\n",
    "\n",
    "\"calendar\"\n"
   ]
  }
 ],
 "metadata": {
  "language_info": {
   "name": "python"
  },
  "orig_nbformat": 4
 },
 "nbformat": 4,
 "nbformat_minor": 2
}
