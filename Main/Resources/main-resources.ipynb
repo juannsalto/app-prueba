{
 "cells": [
  {
   "cell_type": "code",
   "execution_count": null,
   "metadata": {},
   "outputs": [],
   "source": [
    "import openpyxl\n",
    "\n",
    "#variableTalles\n",
    "\n",
    "talles = \"L\", \"M\", \"S\", \"X\" \"XL\", \"XXL\"\n",
    "\n",
    "#variableZonas\n",
    "\n",
    "zonas = 1, 2, 3, 4, 5\n",
    "\n",
    "#variableModelo\n",
    "\n",
    "modelo = \"tiro ancho\", \"tiro bajo\", \"chupin\", \"acampanado\", \"roto\", \"corte inglés\"\n",
    "\n",
    "#variableUsuario\n",
    "\n",
    "#definimos la forma de importacion\n",
    "import openpyxl\n",
    "\n",
    "#definimos la ubicación del archivo\n",
    "\n",
    "wb = openpyxl.load_workbook('Desarrollo\\contacttos\\email\\excel emails\\bazares-emails')\n",
    "\n",
    "print(wb.sheetnames)\n",
    "\n",
    "\"import\"\n",
    "\n",
    "#fechaEntrega\n",
    "\n",
    "\"calendar\"\n"
   ]
  }
 ],
 "metadata": {
  "kernelspec": {
   "display_name": "Python 3.11.0 64-bit",
   "language": "python",
   "name": "python3"
  },
  "language_info": {
   "name": "python",
   "version": "3.11.0"
  },
  "orig_nbformat": 4,
  "vscode": {
   "interpreter": {
    "hash": "c812eb984687e98b7686c463c3fae2045e58b2a2b4e065b3dcebe3cb7d51662e"
   }
  }
 },
 "nbformat": 4,
 "nbformat_minor": 2
}
